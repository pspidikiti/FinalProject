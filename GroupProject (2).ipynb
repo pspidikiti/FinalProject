{
  "nbformat": 4,
  "nbformat_minor": 0,
  "metadata": {
    "colab": {
      "name": "GroupProject.ipynb",
      "provenance": [],
      "collapsed_sections": []
    },
    "kernelspec": {
      "name": "python3",
      "display_name": "Python 3"
    }
  },
  "cells": [
    {
      "cell_type": "code",
      "metadata": {
        "id": "v8UKH-gZ0b4u",
        "colab_type": "code",
        "colab": {}
      },
      "source": [
        "#Import necessary modules\n",
        "import random\n",
        "from copy import copy\n",
        "import matplotlib.pyplot as plt\n",
        "import matplotlib.patches as mpatches\n",
        "import numpy as np\n",
        "import pandas as pd"
      ],
      "execution_count": 0,
      "outputs": []
    },
    {
      "cell_type": "code",
      "metadata": {
        "id": "OGKtDw530cA_",
        "colab_type": "code",
        "colab": {}
      },
      "source": [
        "#Define the individual class.\n",
        "\n",
        "#not sure if the list of different phenotypes should be used for individual or population \n",
        "#project says each population should have inidividuals with same phenotype \n",
        "colors = [\"red\", \"orange\", \"yellow\", \"green\", \"blue\", \"purple\"]\n",
        "\n",
        "class individual:\n",
        "    # Add a docstring     \n",
        "    def __init__(self,id =\"1\", x= \"0\",y= \"0\",colorNumber = 0): # Add default values and color phenotype.\n",
        "        # Add a docstring\n",
        "        self.id = id\n",
        "        self.x = x\n",
        "        self.y = y\n",
        "        self.colorNumber = colors[colorNumber]\n"
      ],
      "execution_count": 0,
      "outputs": []
    },
    {
      "cell_type": "code",
      "metadata": {
        "id": "yGdQnK464vat",
        "colab_type": "code",
        "colab": {}
      },
      "source": [
        "#Define the population class.\n",
        "\n",
        "colors = [\"red\", \"orange\", \"yellow\", \"green\", \"blue\", \"purple\"]\n",
        "\n",
        "class population:\n",
        "  #add docstring\n",
        "  def __init__(self,id =\"1\",popSize = 20 ,colorNumber = 0): # Add default values and starting population size.\n",
        "        # Add a docstring\n",
        "        '''Function to create individuals and apply color'''\n",
        "        self.id = id\n",
        "        self.popSize = popSize\n",
        "        self.colorNumber = colors[colorNumber]\n",
        "        self.pop=[] #create list of individuals\n",
        "\n",
        "        for i in range(popsize):\n",
        "          #this will assign the population color to the individual color\n",
        "          if(i == 0):\n",
        "            newInd = individual(colorNumber = colorNumber) \n",
        "          else:\n",
        "            newInd = individual(id = i +1, colorNumber = colorNumber)  \n",
        "          self.pop.append(newInd)\n",
        "\n",
        "\n",
        "\n",
        "  def addInd(self,newInd):\n",
        "      self.pop.append(newInd)\n",
        "  def removeInd(self):\n",
        "      self.pop.remove(newInd)\n",
        "\n",
        "#calculate and print the frequency of phenotypes among individuals.\n",
        "#Python program to count the frequency of  \n",
        "#individuals in a list using a dictionary \n",
        "  \n",
        "  def phenotypeFreq(self): #newPop or population. or self?\n",
        "    #Add doc string\n",
        "\n",
        "    #need to create a list to be _list that stores all the individual's colors \n",
        "\n",
        "    # Creating an empty dictionary  \n",
        "    freq = {} \n",
        "    for newInd in self.pop: \n",
        "        if newInd.colorNumber not in freq: #if color not already in dictionary add it with a count of 1 \n",
        "          freq.update({newInd.colorNumber:1})\n",
        "        elif newInd.colorNumber in freq: \n",
        "          freq[newInd.colorNumber] += 1  #increase number due to color occuring more than once \n",
        "  \n",
        "    for k, v in freq.items(): \n",
        "        print (\"% s : % d\"%(k, v)) \n",
        "\n",
        "    #need to take the values for all the keys and divide by the total number of individuals \n",
        "    #value / len(newPop.list)\n",
        "    for i in freq.keys():\n",
        "        phenFreq = freq[i] / len(self.pop)\n",
        "        print(\"Phenotype Color %s has a frequency of %f\" % (i,phenFreq))\n",
        "\n"
      ],
      "execution_count": 0,
      "outputs": []
    },
    {
      "cell_type": "code",
      "metadata": {
        "id": "tQIAtrsA5A-Z",
        "colab_type": "code",
        "colab": {}
      },
      "source": [
        "#Define the landscape class.\n",
        "class landscape:\n",
        "  #add dosctring\n",
        "  def __init__(self,landscapeSize=3,dispersalMatrix = None): #Add default values.\n",
        "    # Add a docstring\n",
        "    '''Function to apply probablity of movement between populations'''\n",
        "    self.landscapeSize = landscapeSize\n",
        "    self.land=[] #create list of populations\n",
        "    self.dispersalMatrix = [[0.5,0.5,0.5],[0.5,0.5,0.5],\n",
        "                           [0.5,0.5,0.5],]\n",
        "\n",
        "  for i in range(landscapeSize): #for every population in the landscape\n",
        "        #create a a population object that will pick the color phenotype from the colors list\n",
        "        #when i has already used white, it will restart to red for the next population to be created \n",
        "    if i == 0:\n",
        "          newPop = population(colorNumber = i % len(colors)) \n",
        "    else:\n",
        "          newPop = population(id = i + 1, colorNumber = i % len(colors))  \n",
        "        \n",
        "    self.land.append(newPop)  #add the population just created into the landscape list with the populations\n",
        "    \n",
        "  def move(self):\n",
        "      for i in range(len(self.land)):\n",
        "          indRemoval = []\n",
        "          newPop = None \n",
        "          for ind in self.land[i].pop:\n",
        "              newPop = random.choices(self.land, weights = self.dispersalMatrix[i])[0]\n",
        "          if newPop != self.land[i]:\n",
        "              indRemoval.append(ind)\n",
        "\n",
        "          for ind in indRemoval:\n",
        "              self.land[i].removeInd(ind)\n",
        "              newPop.addInd(ind)"
      ],
      "execution_count": 0,
      "outputs": []
    },
    {
      "cell_type": "code",
      "metadata": {
        "id": "iRzUFPAf98Gy",
        "colab_type": "code",
        "colab": {}
      },
      "source": [
        " def main():\n",
        "      #create a landscape object for landscape class \n",
        "    newLandscape = landscape() #default values \n",
        "\n",
        "    #create populations based on landscape size \n",
        "    #add populations to landscape list \n",
        "    \n",
        "    for i in newLandscape.land:\n",
        "        phenotypeFreq(newLandscape.land[i])\n"
      ],
      "execution_count": 0,
      "outputs": []
    },
    {
      "cell_type": "code",
      "metadata": {
        "id": "LYePL9Bo81QU",
        "colab_type": "code",
        "colab": {}
      },
      "source": [
        "myLandscape = landscape()\n",
      ],
      "execution_count": 0,
      "outputs": []
    },
    {
      "cell_type": "code",
      "metadata": {
        "id": "64rfnOGv-oJV",
        "colab_type": "code",
        "colab": {}
      },
      "source": [
        "#Code to create plots of phenotype frequencies that shows three different lines\n",
        "#for three different populations.\n",
        "\n",
        "Red = []\n",
        "Orange= []\n",
        "Yellow =[]\n",
        "Green = []\n",
        "Blue = []\n",
        "Purple = []\n",
        "Time=100 \n",
        "def movePops(): # Add necessary arguments\n",
        "        # Add a docstring\n",
        "        '''Function to plot population frequencies over time for three populations'''\n",
        "        for i in range(Time):\n",
        "          for n in newPop:\n",
        "            n.move()\n",
        "        plt.xlabel('Time') #creating x axis label\n",
        "        plt.ylabel('Phenotype Frequencies within that Population') #creating y axis label where it \n",
        "        plt.xticks(rotation=90)\n",
        "        plt.grid(True) #adding a grid\n",
        "        #Plotting 3 lines.\n",
        "        line1=plt.plot('time', 'Red', data=Red, color = 'r')\n",
        "        line2=plt.plot('time', 'Orange', data=Orange, color = 'o')\n",
        "        line3=plt.plot('time', 'Yellow', data=Yellow, color = 'y')\n",
        "        line4=plt.plot('time', 'Green', data=Green, color = 'g')\n",
        "        line5=plt.plot('time', 'Blue', data=Blue, color = 'b')\n",
        "        line6=plt.plot('time', 'Purple', data=Purple, color = 'p')\n",
        "        plt.set_xlim([0, gens]); plt.set_ylim([0, pop_size])\n",
        "        plt.show()"
      ],
      "execution_count": 0,
      "outputs": []
    },
    {
      "cell_type": "code",
      "metadata": {
        "id": "xA35J-nVbq08",
        "colab_type": "code",
        "colab": {}
      },
      "source": [
        "movePops()"
      ],
      "execution_count": 0,
      "outputs": []
    },
    {
      "cell_type": "code",
      "metadata": {
        "id": "53V6xaxNGRor",
        "colab_type": "code",
        "colab": {}
      },
      "source": [
        "#Code to create plots of population sizes that shows three different lines\n",
        "#for six different populations.\n",
        "\n",
        "Red = []\n",
        "Orange = []\n",
        "Yellow = []\n",
        "Green = []\n",
        "Blue = []\n",
        "Purple = []\n",
        "Time = 100\n",
        "\n",
        "def draw(self): #add arguments\n",
        "  #add docstring\n",
        "  '''Function to plot population sizes for three different populations'''\n",
        "  for i in self.individ: #loop to plot population sizes\n",
        "    plt.figure()\n",
        "  plt.xlabel('Time')\n",
        "  plt.ylabel('Population Size')\n",
        "  plt.xticks([np.arange(min(x), max(x)0, 20], rotation=90) #creating min and max for x axis \n",
        "  plt.grid(True)#adding grid\n",
        "  #plotting 6 lines\n",
        "  line1=plt.plot('time', 'Red', data=Red, color = 'r')\n",
        "  line2=plt.plot('time', 'Organge', data=Orange, color = 'o')\n",
        "  line3=plt.plot('time', 'Yellow', data=Yellow, color = 'y')\n",
        "  line4=plt.plot('time', 'Green', data=Green, color = 'g')\n",
        "  line5=plt.plot('time', 'Blue', data=Blue, color = 'b')\n",
        "  line6=plt.plot('time', 'Purple', data=Purple, color = 'p')\n",
        "  plt.show()\n",
        "\n",
        "  # plot lines and give each line a unique color\n",
        "  plt. plot\n",
        "\n",
        "\n"
      ],
      "execution_count": 0,
      "outputs": []
    }
  ]
}
